{
 "cells": [
  {
   "cell_type": "code",
   "execution_count": 16,
   "metadata": {},
   "outputs": [],
   "source": [
    "# Importing Libraries\n",
    "import pandas as pd\n",
    "import numpy as np\n",
    "from datetime import datetime\n",
    "import ast\n",
    "import calendar\n",
    "import matplotlib.pyplot as plt\n",
    "warnings.filterwarnings('ignore')"
   ]
  },
  {
   "cell_type": "code",
   "execution_count": 17,
   "metadata": {},
   "outputs": [
    {
     "data": {
      "text/html": [
       "<div>\n",
       "<style scoped>\n",
       "    .dataframe tbody tr th:only-of-type {\n",
       "        vertical-align: middle;\n",
       "    }\n",
       "\n",
       "    .dataframe tbody tr th {\n",
       "        vertical-align: top;\n",
       "    }\n",
       "\n",
       "    .dataframe thead th {\n",
       "        text-align: right;\n",
       "    }\n",
       "</style>\n",
       "<table border=\"1\" class=\"dataframe\">\n",
       "  <thead>\n",
       "    <tr style=\"text-align: right;\">\n",
       "      <th></th>\n",
       "      <th>Position</th>\n",
       "      <th>Track Name</th>\n",
       "      <th>Artist</th>\n",
       "      <th>Streams</th>\n",
       "      <th>Date</th>\n",
       "      <th>Genre</th>\n",
       "    </tr>\n",
       "  </thead>\n",
       "  <tbody>\n",
       "    <tr>\n",
       "      <th>0</th>\n",
       "      <td>1</td>\n",
       "      <td>Starboy</td>\n",
       "      <td>The Weeknd</td>\n",
       "      <td>3135625</td>\n",
       "      <td>2017-01-01</td>\n",
       "      <td>['canadian pop', 'canadian contemporary r&amp;b', ...</td>\n",
       "    </tr>\n",
       "    <tr>\n",
       "      <th>1</th>\n",
       "      <td>2</td>\n",
       "      <td>Closer</td>\n",
       "      <td>The Chainsmokers</td>\n",
       "      <td>3015525</td>\n",
       "      <td>2017-01-01</td>\n",
       "      <td>['pop', 'pop dance', 'tropical house', 'edm', ...</td>\n",
       "    </tr>\n",
       "    <tr>\n",
       "      <th>2</th>\n",
       "      <td>3</td>\n",
       "      <td>Let Me Love You</td>\n",
       "      <td>DJ Snake</td>\n",
       "      <td>2545384</td>\n",
       "      <td>2017-01-01</td>\n",
       "      <td>['pop', 'electronic trap', 'dance pop', 'edm',...</td>\n",
       "    </tr>\n",
       "    <tr>\n",
       "      <th>3</th>\n",
       "      <td>4</td>\n",
       "      <td>Rockabye (feat. Sean Paul &amp; Anne-Marie)</td>\n",
       "      <td>Clean Bandit</td>\n",
       "      <td>2356604</td>\n",
       "      <td>2017-01-01</td>\n",
       "      <td>['pop', 'uk dance', 'dance pop', 'uk funky', '...</td>\n",
       "    </tr>\n",
       "    <tr>\n",
       "      <th>4</th>\n",
       "      <td>5</td>\n",
       "      <td>One Dance</td>\n",
       "      <td>Drake</td>\n",
       "      <td>2259887</td>\n",
       "      <td>2017-01-01</td>\n",
       "      <td>['toronto rap', 'canadian pop', 'canadian hip ...</td>\n",
       "    </tr>\n",
       "  </tbody>\n",
       "</table>\n",
       "</div>"
      ],
      "text/plain": [
       "   Position                               Track Name            Artist  \\\n",
       "0         1                                  Starboy        The Weeknd   \n",
       "1         2                                   Closer  The Chainsmokers   \n",
       "2         3                          Let Me Love You          DJ Snake   \n",
       "3         4  Rockabye (feat. Sean Paul & Anne-Marie)      Clean Bandit   \n",
       "4         5                                One Dance             Drake   \n",
       "\n",
       "   Streams        Date                                              Genre  \n",
       "0  3135625  2017-01-01  ['canadian pop', 'canadian contemporary r&b', ...  \n",
       "1  3015525  2017-01-01  ['pop', 'pop dance', 'tropical house', 'edm', ...  \n",
       "2  2545384  2017-01-01  ['pop', 'electronic trap', 'dance pop', 'edm',...  \n",
       "3  2356604  2017-01-01  ['pop', 'uk dance', 'dance pop', 'uk funky', '...  \n",
       "4  2259887  2017-01-01  ['toronto rap', 'canadian pop', 'canadian hip ...  "
      ]
     },
     "execution_count": 17,
     "metadata": {},
     "output_type": "execute_result"
    }
   ],
   "source": [
    "df = pd.read_csv('data.csv', sep = '#')\n",
    "df.head()"
   ]
  },
  {
   "cell_type": "code",
   "execution_count": 18,
   "metadata": {},
   "outputs": [
    {
     "data": {
      "text/html": [
       "<div>\n",
       "<style scoped>\n",
       "    .dataframe tbody tr th:only-of-type {\n",
       "        vertical-align: middle;\n",
       "    }\n",
       "\n",
       "    .dataframe tbody tr th {\n",
       "        vertical-align: top;\n",
       "    }\n",
       "\n",
       "    .dataframe thead th {\n",
       "        text-align: right;\n",
       "    }\n",
       "</style>\n",
       "<table border=\"1\" class=\"dataframe\">\n",
       "  <thead>\n",
       "    <tr style=\"text-align: right;\">\n",
       "      <th></th>\n",
       "      <th>Position</th>\n",
       "      <th>Track Name</th>\n",
       "      <th>Artist</th>\n",
       "      <th>Streams</th>\n",
       "      <th>Date</th>\n",
       "      <th>Genre</th>\n",
       "    </tr>\n",
       "  </thead>\n",
       "  <tbody>\n",
       "    <tr>\n",
       "      <th>321195</th>\n",
       "      <td>196</td>\n",
       "      <td>Best Friend (feat. Doja Cat)</td>\n",
       "      <td>Saweetie</td>\n",
       "      <td>790257</td>\n",
       "      <td>2021-07-17</td>\n",
       "      <td>['trap queen', 'pop', 'pop rap', 'cali rap', '...</td>\n",
       "    </tr>\n",
       "    <tr>\n",
       "      <th>321196</th>\n",
       "      <td>197</td>\n",
       "      <td>Wonderwall - Remastered</td>\n",
       "      <td>Oasis</td>\n",
       "      <td>789099</td>\n",
       "      <td>2021-07-17</td>\n",
       "      <td>['madchester', 'permanent wave', 'beatlesque',...</td>\n",
       "    </tr>\n",
       "    <tr>\n",
       "      <th>321197</th>\n",
       "      <td>198</td>\n",
       "      <td>MI FAI IMPAZZIRE</td>\n",
       "      <td>BLANCO</td>\n",
       "      <td>788966</td>\n",
       "      <td>2021-07-17</td>\n",
       "      <td>['italian pop', 'italian hip hop']</td>\n",
       "    </tr>\n",
       "    <tr>\n",
       "      <th>321198</th>\n",
       "      <td>199</td>\n",
       "      <td>Adore You</td>\n",
       "      <td>Harry Styles</td>\n",
       "      <td>788033</td>\n",
       "      <td>2021-07-17</td>\n",
       "      <td>['pop', 'post-teen pop']</td>\n",
       "    </tr>\n",
       "    <tr>\n",
       "      <th>321199</th>\n",
       "      <td>200</td>\n",
       "      <td>Follow You</td>\n",
       "      <td>Imagine Dragons</td>\n",
       "      <td>785417</td>\n",
       "      <td>2021-07-17</td>\n",
       "      <td>['modern rock', 'pop', 'rock']</td>\n",
       "    </tr>\n",
       "  </tbody>\n",
       "</table>\n",
       "</div>"
      ],
      "text/plain": [
       "        Position                    Track Name           Artist  Streams  \\\n",
       "321195       196  Best Friend (feat. Doja Cat)         Saweetie   790257   \n",
       "321196       197       Wonderwall - Remastered            Oasis   789099   \n",
       "321197       198              MI FAI IMPAZZIRE           BLANCO   788966   \n",
       "321198       199                     Adore You     Harry Styles   788033   \n",
       "321199       200                    Follow You  Imagine Dragons   785417   \n",
       "\n",
       "              Date                                              Genre  \n",
       "321195  2021-07-17  ['trap queen', 'pop', 'pop rap', 'cali rap', '...  \n",
       "321196  2021-07-17  ['madchester', 'permanent wave', 'beatlesque',...  \n",
       "321197  2021-07-17                 ['italian pop', 'italian hip hop']  \n",
       "321198  2021-07-17                           ['pop', 'post-teen pop']  \n",
       "321199  2021-07-17                     ['modern rock', 'pop', 'rock']  "
      ]
     },
     "execution_count": 18,
     "metadata": {},
     "output_type": "execute_result"
    }
   ],
   "source": [
    "df.tail()"
   ]
  },
  {
   "cell_type": "code",
   "execution_count": 19,
   "metadata": {},
   "outputs": [
    {
     "name": "stdout",
     "output_type": "stream",
     "text": [
      "<class 'pandas.core.frame.DataFrame'>\n",
      "RangeIndex: 321200 entries, 0 to 321199\n",
      "Data columns (total 6 columns):\n",
      " #   Column      Non-Null Count   Dtype \n",
      "---  ------      --------------   ----- \n",
      " 0   Position    321200 non-null  int64 \n",
      " 1   Track Name  321182 non-null  object\n",
      " 2   Artist      321182 non-null  object\n",
      " 3   Streams     321200 non-null  int64 \n",
      " 4   Date        321200 non-null  object\n",
      " 5   Genre       321182 non-null  object\n",
      "dtypes: int64(2), object(4)\n",
      "memory usage: 14.7+ MB\n"
     ]
    }
   ],
   "source": [
    "df.info()"
   ]
  },
  {
   "cell_type": "code",
   "execution_count": 20,
   "metadata": {},
   "outputs": [
    {
     "name": "stdout",
     "output_type": "stream",
     "text": [
      "Position       0\n",
      "Track Name    18\n",
      "Artist        18\n",
      "Streams        0\n",
      "Date           0\n",
      "Genre         18\n",
      "dtype: int64\n"
     ]
    }
   ],
   "source": [
    "print(df.isnull().sum())"
   ]
  },
  {
   "cell_type": "markdown",
   "metadata": {},
   "source": [
    "Some columns are mostly/completely empty, let's drop columns thathave more than 9000 null entries."
   ]
  },
  {
   "cell_type": "code",
   "execution_count": 21,
   "metadata": {},
   "outputs": [
    {
     "data": {
      "text/plain": [
       "(321200, 6)"
      ]
     },
     "execution_count": 21,
     "metadata": {},
     "output_type": "execute_result"
    }
   ],
   "source": [
    "df.shape"
   ]
  },
  {
   "cell_type": "code",
   "execution_count": 22,
   "metadata": {},
   "outputs": [
    {
     "data": {
      "text/html": [
       "<div>\n",
       "<style scoped>\n",
       "    .dataframe tbody tr th:only-of-type {\n",
       "        vertical-align: middle;\n",
       "    }\n",
       "\n",
       "    .dataframe tbody tr th {\n",
       "        vertical-align: top;\n",
       "    }\n",
       "\n",
       "    .dataframe thead th {\n",
       "        text-align: right;\n",
       "    }\n",
       "</style>\n",
       "<table border=\"1\" class=\"dataframe\">\n",
       "  <thead>\n",
       "    <tr style=\"text-align: right;\">\n",
       "      <th></th>\n",
       "      <th>Position</th>\n",
       "      <th>Track Name</th>\n",
       "      <th>Artist</th>\n",
       "      <th>Streams</th>\n",
       "      <th>Date</th>\n",
       "      <th>Genre</th>\n",
       "    </tr>\n",
       "  </thead>\n",
       "  <tbody>\n",
       "    <tr>\n",
       "      <th>39204</th>\n",
       "      <td>5</td>\n",
       "      <td>NaN</td>\n",
       "      <td>NaN</td>\n",
       "      <td>3568811</td>\n",
       "      <td>2017-07-20</td>\n",
       "      <td>NaN</td>\n",
       "    </tr>\n",
       "    <tr>\n",
       "      <th>39212</th>\n",
       "      <td>13</td>\n",
       "      <td>NaN</td>\n",
       "      <td>NaN</td>\n",
       "      <td>2571960</td>\n",
       "      <td>2017-07-20</td>\n",
       "      <td>NaN</td>\n",
       "    </tr>\n",
       "    <tr>\n",
       "      <th>39229</th>\n",
       "      <td>30</td>\n",
       "      <td>NaN</td>\n",
       "      <td>NaN</td>\n",
       "      <td>1798208</td>\n",
       "      <td>2017-07-20</td>\n",
       "      <td>NaN</td>\n",
       "    </tr>\n",
       "    <tr>\n",
       "      <th>39238</th>\n",
       "      <td>39</td>\n",
       "      <td>NaN</td>\n",
       "      <td>NaN</td>\n",
       "      <td>1520291</td>\n",
       "      <td>2017-07-20</td>\n",
       "      <td>NaN</td>\n",
       "    </tr>\n",
       "    <tr>\n",
       "      <th>39404</th>\n",
       "      <td>5</td>\n",
       "      <td>NaN</td>\n",
       "      <td>NaN</td>\n",
       "      <td>3653533</td>\n",
       "      <td>2017-07-21</td>\n",
       "      <td>NaN</td>\n",
       "    </tr>\n",
       "    <tr>\n",
       "      <th>39415</th>\n",
       "      <td>16</td>\n",
       "      <td>NaN</td>\n",
       "      <td>NaN</td>\n",
       "      <td>2522453</td>\n",
       "      <td>2017-07-21</td>\n",
       "      <td>NaN</td>\n",
       "    </tr>\n",
       "    <tr>\n",
       "      <th>39434</th>\n",
       "      <td>35</td>\n",
       "      <td>NaN</td>\n",
       "      <td>NaN</td>\n",
       "      <td>1798890</td>\n",
       "      <td>2017-07-21</td>\n",
       "      <td>NaN</td>\n",
       "    </tr>\n",
       "    <tr>\n",
       "      <th>39447</th>\n",
       "      <td>48</td>\n",
       "      <td>NaN</td>\n",
       "      <td>NaN</td>\n",
       "      <td>1526955</td>\n",
       "      <td>2017-07-21</td>\n",
       "      <td>NaN</td>\n",
       "    </tr>\n",
       "    <tr>\n",
       "      <th>39700</th>\n",
       "      <td>101</td>\n",
       "      <td>NaN</td>\n",
       "      <td>NaN</td>\n",
       "      <td>747893</td>\n",
       "      <td>2017-07-22</td>\n",
       "      <td>NaN</td>\n",
       "    </tr>\n",
       "    <tr>\n",
       "      <th>39888</th>\n",
       "      <td>89</td>\n",
       "      <td>NaN</td>\n",
       "      <td>NaN</td>\n",
       "      <td>690247</td>\n",
       "      <td>2017-07-23</td>\n",
       "      <td>NaN</td>\n",
       "    </tr>\n",
       "    <tr>\n",
       "      <th>61631</th>\n",
       "      <td>32</td>\n",
       "      <td>NaN</td>\n",
       "      <td>NaN</td>\n",
       "      <td>1496980</td>\n",
       "      <td>2017-11-09</td>\n",
       "      <td>NaN</td>\n",
       "    </tr>\n",
       "    <tr>\n",
       "      <th>61829</th>\n",
       "      <td>30</td>\n",
       "      <td>NaN</td>\n",
       "      <td>NaN</td>\n",
       "      <td>1660185</td>\n",
       "      <td>2017-11-10</td>\n",
       "      <td>NaN</td>\n",
       "    </tr>\n",
       "    <tr>\n",
       "      <th>62025</th>\n",
       "      <td>26</td>\n",
       "      <td>NaN</td>\n",
       "      <td>NaN</td>\n",
       "      <td>1762307</td>\n",
       "      <td>2017-11-11</td>\n",
       "      <td>NaN</td>\n",
       "    </tr>\n",
       "    <tr>\n",
       "      <th>62226</th>\n",
       "      <td>27</td>\n",
       "      <td>NaN</td>\n",
       "      <td>NaN</td>\n",
       "      <td>1544175</td>\n",
       "      <td>2017-11-12</td>\n",
       "      <td>NaN</td>\n",
       "    </tr>\n",
       "    <tr>\n",
       "      <th>62430</th>\n",
       "      <td>31</td>\n",
       "      <td>NaN</td>\n",
       "      <td>NaN</td>\n",
       "      <td>1473457</td>\n",
       "      <td>2017-11-13</td>\n",
       "      <td>NaN</td>\n",
       "    </tr>\n",
       "    <tr>\n",
       "      <th>62629</th>\n",
       "      <td>30</td>\n",
       "      <td>NaN</td>\n",
       "      <td>NaN</td>\n",
       "      <td>1581132</td>\n",
       "      <td>2017-11-14</td>\n",
       "      <td>NaN</td>\n",
       "    </tr>\n",
       "    <tr>\n",
       "      <th>66155</th>\n",
       "      <td>156</td>\n",
       "      <td>NaN</td>\n",
       "      <td>NaN</td>\n",
       "      <td>650496</td>\n",
       "      <td>2017-12-01</td>\n",
       "      <td>NaN</td>\n",
       "    </tr>\n",
       "    <tr>\n",
       "      <th>66180</th>\n",
       "      <td>181</td>\n",
       "      <td>NaN</td>\n",
       "      <td>NaN</td>\n",
       "      <td>588738</td>\n",
       "      <td>2017-12-01</td>\n",
       "      <td>NaN</td>\n",
       "    </tr>\n",
       "  </tbody>\n",
       "</table>\n",
       "</div>"
      ],
      "text/plain": [
       "       Position Track Name Artist  Streams        Date Genre\n",
       "39204         5        NaN    NaN  3568811  2017-07-20   NaN\n",
       "39212        13        NaN    NaN  2571960  2017-07-20   NaN\n",
       "39229        30        NaN    NaN  1798208  2017-07-20   NaN\n",
       "39238        39        NaN    NaN  1520291  2017-07-20   NaN\n",
       "39404         5        NaN    NaN  3653533  2017-07-21   NaN\n",
       "39415        16        NaN    NaN  2522453  2017-07-21   NaN\n",
       "39434        35        NaN    NaN  1798890  2017-07-21   NaN\n",
       "39447        48        NaN    NaN  1526955  2017-07-21   NaN\n",
       "39700       101        NaN    NaN   747893  2017-07-22   NaN\n",
       "39888        89        NaN    NaN   690247  2017-07-23   NaN\n",
       "61631        32        NaN    NaN  1496980  2017-11-09   NaN\n",
       "61829        30        NaN    NaN  1660185  2017-11-10   NaN\n",
       "62025        26        NaN    NaN  1762307  2017-11-11   NaN\n",
       "62226        27        NaN    NaN  1544175  2017-11-12   NaN\n",
       "62430        31        NaN    NaN  1473457  2017-11-13   NaN\n",
       "62629        30        NaN    NaN  1581132  2017-11-14   NaN\n",
       "66155       156        NaN    NaN   650496  2017-12-01   NaN\n",
       "66180       181        NaN    NaN   588738  2017-12-01   NaN"
      ]
     },
     "execution_count": 22,
     "metadata": {},
     "output_type": "execute_result"
    }
   ],
   "source": [
    "df.loc[pd.isnull(df['Track Name'])]"
   ]
  },
  {
   "cell_type": "code",
   "execution_count": 23,
   "metadata": {},
   "outputs": [],
   "source": [
    "df.dropna(inplace=True) "
   ]
  },
  {
   "cell_type": "code",
   "execution_count": 24,
   "metadata": {},
   "outputs": [
    {
     "data": {
      "text/plain": [
       "(321182, 6)"
      ]
     },
     "execution_count": 24,
     "metadata": {},
     "output_type": "execute_result"
    }
   ],
   "source": [
    "df.shape"
   ]
  },
  {
   "cell_type": "code",
   "execution_count": 25,
   "metadata": {},
   "outputs": [
    {
     "name": "stdout",
     "output_type": "stream",
     "text": [
      "Position      0\n",
      "Track Name    0\n",
      "Artist        0\n",
      "Streams       0\n",
      "Date          0\n",
      "Genre         0\n",
      "dtype: int64\n"
     ]
    }
   ],
   "source": [
    "print(df.isnull().sum())"
   ]
  },
  {
   "cell_type": "code",
   "execution_count": 26,
   "metadata": {},
   "outputs": [],
   "source": [
    "def get_keyword_separator(s):\n",
    "    if \"featuring\" in s.lower():\n",
    "        return \"featuring\"\n",
    "    elif \"feat\" in s.lower():\n",
    "        return \"feat\"\n",
    "    else:\n",
    "        return \"with\"\n",
    "    \n",
    "def check_if_song_is_featured(song_name):\n",
    "    keyword = get_keyword_separator(song_name)\n",
    "    idx_if_exists = song_name.lower().find(keyword)\n",
    "    if idx_if_exists != -1:\n",
    "        feat = song_name[idx_if_exists + len(keyword) + 1:-1]\n",
    "        sep = \"&\" if \"&\" in feat else \",\"\n",
    "        return [x.strip() for x in feat.split(sep)]\n",
    "    else:\n",
    "        return \"None\"\n",
    "    \n",
    "def get_number_of_singers(feat):\n",
    "    if isinstance(feat, list):\n",
    "        return len(feat) + 1\n",
    "    else:\n",
    "        return 1\n",
    "    \n",
    "def get_song_name_only(song_name):\n",
    "    sep = 'feat' if 'feat' in song_name.lower() else \"with\"\n",
    "    idx = song_name.lower().find(sep)\n",
    "    if idx != -1:\n",
    "        return song_name[:idx-1].strip() # -1 to skip the \")\"\n",
    "    else:\n",
    "        return song_name"
   ]
  },
  {
   "cell_type": "code",
   "execution_count": 27,
   "metadata": {},
   "outputs": [],
   "source": [
    "df[\"Year\"] = df[\"Date\"].apply(lambda x: datetime.strptime(x, \"%Y-%m-%d\").year)\n",
    "df[\"Month\"] = df[\"Date\"].apply(lambda x: datetime.strptime(x, \"%Y-%m-%d\").month)\n",
    "df[\"DayOfWeek\"] = df[\"Date\"].apply(lambda x: datetime.strptime(x, \"%Y-%m-%d\").isoweekday())"
   ]
  },
  {
   "cell_type": "code",
   "execution_count": 29,
   "metadata": {},
   "outputs": [],
   "source": [
    "df[\"Featuring\"] = df[\"Track Name\"].apply(lambda x: check_if_song_is_featured(x))\n",
    "df['Number Of Singers'] = df['Featuring'].apply(lambda x: get_number_of_singers(x))"
   ]
  },
  {
   "cell_type": "code",
   "execution_count": 30,
   "metadata": {},
   "outputs": [],
   "source": [
    "df[\"Track Name\"] = df['Track Name'].apply(lambda x: get_song_name_only(x))"
   ]
  },
  {
   "cell_type": "code",
   "execution_count": 31,
   "metadata": {},
   "outputs": [],
   "source": [
    "df['In Top 5'] = df['Position'].apply(lambda x: int(x<=5))\n",
    "df['In Top 10'] = df['Position'].apply(lambda x: int(x<=10))\n",
    "df['In Top 50'] = df['Position'].apply(lambda x: int(x<=50))\n",
    "df['In Top 100'] = df['Position'].apply(lambda x: int(x<=100))"
   ]
  },
  {
   "cell_type": "code",
   "execution_count": 32,
   "metadata": {},
   "outputs": [],
   "source": [
    "df[\"Genre\"] = df['Genre'].apply(lambda x: ast.literal_eval(x))"
   ]
  },
  {
   "cell_type": "code",
   "execution_count": 34,
   "metadata": {},
   "outputs": [],
   "source": [
    "# Checking if there are incorrect Genre names\n",
    "df[\"Genre Max Length\"] = df['Genre'].apply(lambda x : max([len(xi) for xi in x]))"
   ]
  },
  {
   "cell_type": "code",
   "execution_count": 36,
   "metadata": {},
   "outputs": [
    {
     "data": {
      "image/png": "[encoded data removed]",
      "text/plain": [
       "<Figure size 1008x504 with 1 Axes>"
      ]
     },
     "metadata": {
      "needs_background": "light"
     },
     "output_type": "display_data"
    }
   ],
   "source": [
    "df['Genre Max Length'].value_counts().plot(kind='bar', title='Genre Name Max Lengths Distribution', figsize=(14,7), xlabel='Max Length', ylabel='Count')\n",
    "plt.show()"
   ]
  },
  {
   "cell_type": "code",
   "execution_count": 37,
   "metadata": {},
   "outputs": [],
   "source": [
    "df.to_csv('cleanData_spotify.csv', index = False)"
   ]
  },
  {
   "cell_type": "code",
   "execution_count": null,
   "metadata": {},
   "outputs": [],
   "source": []
  }
 ],
 "metadata": {
  "kernelspec": {
   "display_name": "Python 3",
   "language": "python",
   "name": "python3"
  },
  "language_info": {
   "codemirror_mode": {
    "name": "ipython",
    "version": 3
   },
   "file_extension": ".py",
   "mimetype": "text/x-python",
   "name": "python",
   "nbconvert_exporter": "python",
   "pygments_lexer": "ipython3",
   "version": "3.8.1"
  }
 },
 "nbformat": 4,
 "nbformat_minor": 4
}
